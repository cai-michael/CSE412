{
 "metadata": {
  "language_info": {
   "codemirror_mode": {
    "name": "ipython",
    "version": 3
   },
   "file_extension": ".py",
   "mimetype": "text/x-python",
   "name": "python",
   "nbconvert_exporter": "python",
   "pygments_lexer": "ipython3",
   "version": "3.8.6-final"
  },
  "orig_nbformat": 2,
  "kernelspec": {
   "name": "Python 3.8.6 64-bit",
   "display_name": "Python 3.8.6 64-bit",
   "metadata": {
    "interpreter": {
     "hash": "fa68edcd4b609fc3fb4a36198f7b081c67a25cca183b07b56f791de98012673d"
    }
   }
  }
 },
 "nbformat": 4,
 "nbformat_minor": 2,
 "cells": [
  {
   "cell_type": "code",
   "execution_count": 14,
   "metadata": {},
   "outputs": [
    {
     "output_type": "execute_result",
     "data": {
      "text/plain": [
       "'\\nThis is meant to sample data for the demo since there are thousands of entries and the script\\nto populate the data only inserts at about 100 entires per minute.\\n\\nPlace the csv in the uppermost directory.\\n'"
      ]
     },
     "metadata": {},
     "execution_count": 14
    }
   ],
   "source": [
    "import pandas as pd\n",
    "\n",
    "\"\"\"\n",
    "This is meant to sample data for the demo since there are thousands of entries and the script\n",
    "to populate the data only inserts at about 100 entires per minute.\n",
    "\n",
    "Place the csv in the uppermost directory.\n",
    "\"\"\""
   ]
  },
  {
   "cell_type": "code",
   "execution_count": 15,
   "metadata": {},
   "outputs": [
    {
     "output_type": "execute_result",
     "data": {
      "text/plain": [
       "         State Code  County Code  Site Num  \\\n",
       "0                 4           13      3002   \n",
       "1                 4           13      3002   \n",
       "2                 4           13      3002   \n",
       "3                 4           13      3002   \n",
       "4                 4           13      3002   \n",
       "...             ...          ...       ...   \n",
       "1746656          56           21       100   \n",
       "1746657          56           21       100   \n",
       "1746658          56           21       100   \n",
       "1746659          56           21       100   \n",
       "1746660          56           21       100   \n",
       "\n",
       "                                         Address    State    County  \\\n",
       "0        1645 E ROOSEVELT ST-CENTRAL PHOENIX STN  Arizona  Maricopa   \n",
       "1        1645 E ROOSEVELT ST-CENTRAL PHOENIX STN  Arizona  Maricopa   \n",
       "2        1645 E ROOSEVELT ST-CENTRAL PHOENIX STN  Arizona  Maricopa   \n",
       "3        1645 E ROOSEVELT ST-CENTRAL PHOENIX STN  Arizona  Maricopa   \n",
       "4        1645 E ROOSEVELT ST-CENTRAL PHOENIX STN  Arizona  Maricopa   \n",
       "...                                          ...      ...       ...   \n",
       "1746656    NCore - North Cheyenne Soccer Complex  Wyoming   Laramie   \n",
       "1746657    NCore - North Cheyenne Soccer Complex  Wyoming   Laramie   \n",
       "1746658    NCore - North Cheyenne Soccer Complex  Wyoming   Laramie   \n",
       "1746659    NCore - North Cheyenne Soccer Complex  Wyoming   Laramie   \n",
       "1746660    NCore - North Cheyenne Soccer Complex  Wyoming   Laramie   \n",
       "\n",
       "                  City  Date Local          NO2 Units   NO2 Mean  ...  \\\n",
       "0              Phoenix  2000-01-01  Parts per billion  19.041667  ...   \n",
       "1              Phoenix  2000-01-01  Parts per billion  19.041667  ...   \n",
       "2              Phoenix  2000-01-01  Parts per billion  19.041667  ...   \n",
       "3              Phoenix  2000-01-01  Parts per billion  19.041667  ...   \n",
       "4              Phoenix  2000-01-02  Parts per billion  22.958333  ...   \n",
       "...                ...         ...                ...        ...  ...   \n",
       "1746656  Not in a city  2016-03-30  Parts per billion   1.083333  ...   \n",
       "1746657  Not in a city  2016-03-31  Parts per billion   0.939130  ...   \n",
       "1746658  Not in a city  2016-03-31  Parts per billion   0.939130  ...   \n",
       "1746659  Not in a city  2016-03-31  Parts per billion   0.939130  ...   \n",
       "1746660  Not in a city  2016-03-31  Parts per billion   0.939130  ...   \n",
       "\n",
       "                 SO2 Units  SO2 Mean  SO2 1st Max Value SO2 1st Max Hour  \\\n",
       "0        Parts per billion  3.000000                9.0               21   \n",
       "1        Parts per billion  3.000000                9.0               21   \n",
       "2        Parts per billion  2.975000                6.6               23   \n",
       "3        Parts per billion  2.975000                6.6               23   \n",
       "4        Parts per billion  1.958333                3.0               22   \n",
       "...                    ...       ...                ...              ...   \n",
       "1746656  Parts per billion  0.000000                0.0                2   \n",
       "1746657  Parts per billion -0.022727                0.0                0   \n",
       "1746658  Parts per billion -0.022727                0.0                0   \n",
       "1746659  Parts per billion  0.000000                0.0                5   \n",
       "1746660  Parts per billion  0.000000                0.0                5   \n",
       "\n",
       "         SO2 AQI           CO Units   CO Mean  CO 1st Max Value  \\\n",
       "0           13.0  Parts per million  1.145833             4.200   \n",
       "1           13.0  Parts per million  0.878947             2.200   \n",
       "2            NaN  Parts per million  1.145833             4.200   \n",
       "3            NaN  Parts per million  0.878947             2.200   \n",
       "4            4.0  Parts per million  0.850000             1.600   \n",
       "...          ...                ...       ...               ...   \n",
       "1746656      NaN  Parts per million  0.091667             0.100   \n",
       "1746657      0.0  Parts per million  0.067714             0.127   \n",
       "1746658      0.0  Parts per million  0.100000             0.100   \n",
       "1746659      NaN  Parts per million  0.067714             0.127   \n",
       "1746660      NaN  Parts per million  0.100000             0.100   \n",
       "\n",
       "        CO 1st Max Hour  CO AQI  \n",
       "0                    21     NaN  \n",
       "1                    23    25.0  \n",
       "2                    21     NaN  \n",
       "3                    23    25.0  \n",
       "4                    23     NaN  \n",
       "...                 ...     ...  \n",
       "1746656               2     1.0  \n",
       "1746657               0     NaN  \n",
       "1746658               0     1.0  \n",
       "1746659               0     NaN  \n",
       "1746660               0     1.0  \n",
       "\n",
       "[1746661 rows x 28 columns]"
      ],
      "text/html": "<div>\n<style scoped>\n    .dataframe tbody tr th:only-of-type {\n        vertical-align: middle;\n    }\n\n    .dataframe tbody tr th {\n        vertical-align: top;\n    }\n\n    .dataframe thead th {\n        text-align: right;\n    }\n</style>\n<table border=\"1\" class=\"dataframe\">\n  <thead>\n    <tr style=\"text-align: right;\">\n      <th></th>\n      <th>State Code</th>\n      <th>County Code</th>\n      <th>Site Num</th>\n      <th>Address</th>\n      <th>State</th>\n      <th>County</th>\n      <th>City</th>\n      <th>Date Local</th>\n      <th>NO2 Units</th>\n      <th>NO2 Mean</th>\n      <th>...</th>\n      <th>SO2 Units</th>\n      <th>SO2 Mean</th>\n      <th>SO2 1st Max Value</th>\n      <th>SO2 1st Max Hour</th>\n      <th>SO2 AQI</th>\n      <th>CO Units</th>\n      <th>CO Mean</th>\n      <th>CO 1st Max Value</th>\n      <th>CO 1st Max Hour</th>\n      <th>CO AQI</th>\n    </tr>\n  </thead>\n  <tbody>\n    <tr>\n      <th>0</th>\n      <td>4</td>\n      <td>13</td>\n      <td>3002</td>\n      <td>1645 E ROOSEVELT ST-CENTRAL PHOENIX STN</td>\n      <td>Arizona</td>\n      <td>Maricopa</td>\n      <td>Phoenix</td>\n      <td>2000-01-01</td>\n      <td>Parts per billion</td>\n      <td>19.041667</td>\n      <td>...</td>\n      <td>Parts per billion</td>\n      <td>3.000000</td>\n      <td>9.0</td>\n      <td>21</td>\n      <td>13.0</td>\n      <td>Parts per million</td>\n      <td>1.145833</td>\n      <td>4.200</td>\n      <td>21</td>\n      <td>NaN</td>\n    </tr>\n    <tr>\n      <th>1</th>\n      <td>4</td>\n      <td>13</td>\n      <td>3002</td>\n      <td>1645 E ROOSEVELT ST-CENTRAL PHOENIX STN</td>\n      <td>Arizona</td>\n      <td>Maricopa</td>\n      <td>Phoenix</td>\n      <td>2000-01-01</td>\n      <td>Parts per billion</td>\n      <td>19.041667</td>\n      <td>...</td>\n      <td>Parts per billion</td>\n      <td>3.000000</td>\n      <td>9.0</td>\n      <td>21</td>\n      <td>13.0</td>\n      <td>Parts per million</td>\n      <td>0.878947</td>\n      <td>2.200</td>\n      <td>23</td>\n      <td>25.0</td>\n    </tr>\n    <tr>\n      <th>2</th>\n      <td>4</td>\n      <td>13</td>\n      <td>3002</td>\n      <td>1645 E ROOSEVELT ST-CENTRAL PHOENIX STN</td>\n      <td>Arizona</td>\n      <td>Maricopa</td>\n      <td>Phoenix</td>\n      <td>2000-01-01</td>\n      <td>Parts per billion</td>\n      <td>19.041667</td>\n      <td>...</td>\n      <td>Parts per billion</td>\n      <td>2.975000</td>\n      <td>6.6</td>\n      <td>23</td>\n      <td>NaN</td>\n      <td>Parts per million</td>\n      <td>1.145833</td>\n      <td>4.200</td>\n      <td>21</td>\n      <td>NaN</td>\n    </tr>\n    <tr>\n      <th>3</th>\n      <td>4</td>\n      <td>13</td>\n      <td>3002</td>\n      <td>1645 E ROOSEVELT ST-CENTRAL PHOENIX STN</td>\n      <td>Arizona</td>\n      <td>Maricopa</td>\n      <td>Phoenix</td>\n      <td>2000-01-01</td>\n      <td>Parts per billion</td>\n      <td>19.041667</td>\n      <td>...</td>\n      <td>Parts per billion</td>\n      <td>2.975000</td>\n      <td>6.6</td>\n      <td>23</td>\n      <td>NaN</td>\n      <td>Parts per million</td>\n      <td>0.878947</td>\n      <td>2.200</td>\n      <td>23</td>\n      <td>25.0</td>\n    </tr>\n    <tr>\n      <th>4</th>\n      <td>4</td>\n      <td>13</td>\n      <td>3002</td>\n      <td>1645 E ROOSEVELT ST-CENTRAL PHOENIX STN</td>\n      <td>Arizona</td>\n      <td>Maricopa</td>\n      <td>Phoenix</td>\n      <td>2000-01-02</td>\n      <td>Parts per billion</td>\n      <td>22.958333</td>\n      <td>...</td>\n      <td>Parts per billion</td>\n      <td>1.958333</td>\n      <td>3.0</td>\n      <td>22</td>\n      <td>4.0</td>\n      <td>Parts per million</td>\n      <td>0.850000</td>\n      <td>1.600</td>\n      <td>23</td>\n      <td>NaN</td>\n    </tr>\n    <tr>\n      <th>...</th>\n      <td>...</td>\n      <td>...</td>\n      <td>...</td>\n      <td>...</td>\n      <td>...</td>\n      <td>...</td>\n      <td>...</td>\n      <td>...</td>\n      <td>...</td>\n      <td>...</td>\n      <td>...</td>\n      <td>...</td>\n      <td>...</td>\n      <td>...</td>\n      <td>...</td>\n      <td>...</td>\n      <td>...</td>\n      <td>...</td>\n      <td>...</td>\n      <td>...</td>\n      <td>...</td>\n    </tr>\n    <tr>\n      <th>1746656</th>\n      <td>56</td>\n      <td>21</td>\n      <td>100</td>\n      <td>NCore - North Cheyenne Soccer Complex</td>\n      <td>Wyoming</td>\n      <td>Laramie</td>\n      <td>Not in a city</td>\n      <td>2016-03-30</td>\n      <td>Parts per billion</td>\n      <td>1.083333</td>\n      <td>...</td>\n      <td>Parts per billion</td>\n      <td>0.000000</td>\n      <td>0.0</td>\n      <td>2</td>\n      <td>NaN</td>\n      <td>Parts per million</td>\n      <td>0.091667</td>\n      <td>0.100</td>\n      <td>2</td>\n      <td>1.0</td>\n    </tr>\n    <tr>\n      <th>1746657</th>\n      <td>56</td>\n      <td>21</td>\n      <td>100</td>\n      <td>NCore - North Cheyenne Soccer Complex</td>\n      <td>Wyoming</td>\n      <td>Laramie</td>\n      <td>Not in a city</td>\n      <td>2016-03-31</td>\n      <td>Parts per billion</td>\n      <td>0.939130</td>\n      <td>...</td>\n      <td>Parts per billion</td>\n      <td>-0.022727</td>\n      <td>0.0</td>\n      <td>0</td>\n      <td>0.0</td>\n      <td>Parts per million</td>\n      <td>0.067714</td>\n      <td>0.127</td>\n      <td>0</td>\n      <td>NaN</td>\n    </tr>\n    <tr>\n      <th>1746658</th>\n      <td>56</td>\n      <td>21</td>\n      <td>100</td>\n      <td>NCore - North Cheyenne Soccer Complex</td>\n      <td>Wyoming</td>\n      <td>Laramie</td>\n      <td>Not in a city</td>\n      <td>2016-03-31</td>\n      <td>Parts per billion</td>\n      <td>0.939130</td>\n      <td>...</td>\n      <td>Parts per billion</td>\n      <td>-0.022727</td>\n      <td>0.0</td>\n      <td>0</td>\n      <td>0.0</td>\n      <td>Parts per million</td>\n      <td>0.100000</td>\n      <td>0.100</td>\n      <td>0</td>\n      <td>1.0</td>\n    </tr>\n    <tr>\n      <th>1746659</th>\n      <td>56</td>\n      <td>21</td>\n      <td>100</td>\n      <td>NCore - North Cheyenne Soccer Complex</td>\n      <td>Wyoming</td>\n      <td>Laramie</td>\n      <td>Not in a city</td>\n      <td>2016-03-31</td>\n      <td>Parts per billion</td>\n      <td>0.939130</td>\n      <td>...</td>\n      <td>Parts per billion</td>\n      <td>0.000000</td>\n      <td>0.0</td>\n      <td>5</td>\n      <td>NaN</td>\n      <td>Parts per million</td>\n      <td>0.067714</td>\n      <td>0.127</td>\n      <td>0</td>\n      <td>NaN</td>\n    </tr>\n    <tr>\n      <th>1746660</th>\n      <td>56</td>\n      <td>21</td>\n      <td>100</td>\n      <td>NCore - North Cheyenne Soccer Complex</td>\n      <td>Wyoming</td>\n      <td>Laramie</td>\n      <td>Not in a city</td>\n      <td>2016-03-31</td>\n      <td>Parts per billion</td>\n      <td>0.939130</td>\n      <td>...</td>\n      <td>Parts per billion</td>\n      <td>0.000000</td>\n      <td>0.0</td>\n      <td>5</td>\n      <td>NaN</td>\n      <td>Parts per million</td>\n      <td>0.100000</td>\n      <td>0.100</td>\n      <td>0</td>\n      <td>1.0</td>\n    </tr>\n  </tbody>\n</table>\n<p>1746661 rows × 28 columns</p>\n</div>"
     },
     "metadata": {},
     "execution_count": 15
    }
   ],
   "source": [
    "df = pd.read_csv('../pollution_us_2000_2016.csv', delimiter=',')\n",
    "df = df.drop(columns=['Unnamed: 0'])\n",
    "df"
   ]
  },
  {
   "cell_type": "code",
   "execution_count": 16,
   "metadata": {},
   "outputs": [
    {
     "output_type": "execute_result",
     "data": {
      "text/plain": [
       "         State Code  County Code  Site Num  \\\n",
       "362051            4           13      3002   \n",
       "9664              6           25         5   \n",
       "997534            6           65      8001   \n",
       "1710091          48          141        44   \n",
       "1600358           4           13      9997   \n",
       "...             ...          ...       ...   \n",
       "1614788           6           25         5   \n",
       "1315446          48          141        44   \n",
       "12816             6           37      1103   \n",
       "457347            6           37      1002   \n",
       "857854           51           59         5   \n",
       "\n",
       "                                          Address       State       County  \\\n",
       "362051    1645 E ROOSEVELT ST-CENTRAL PHOENIX STN     Arizona     Maricopa   \n",
       "9664          1029 ETHEL ST, CALEXICO HIGH SCHOOL  California     Imperial   \n",
       "997534               5888 MISSION BLVD., RUBIDOUX  California    Riverside   \n",
       "1710091                  800 S San Marcial Street       Texas      El Paso   \n",
       "1600358                        4530 N 17TH AVENUE     Arizona     Maricopa   \n",
       "...                                           ...         ...          ...   \n",
       "1614788       1029 ETHEL ST, CALEXICO HIGH SCHOOL  California     Imperial   \n",
       "1315446                  800 S San Marcial Street       Texas      El Paso   \n",
       "12816                 1630 N MAIN ST, LOS ANGELES  California  Los Angeles   \n",
       "457347                  228 W. PALM AVE., BURBANK  California  Los Angeles   \n",
       "857854   CUB RUN LEE RD CHANT.(CUBRUN TREAT PLANT    Virginia      Fairfax   \n",
       "\n",
       "                  City  Date Local          NO2 Units   NO2 Mean  ...  \\\n",
       "362051         Phoenix  2004-09-22  Parts per billion  33.125000  ...   \n",
       "9664          Calexico  2000-04-01  Parts per billion  20.521739  ...   \n",
       "997534        Rubidoux  2010-03-18  Parts per billion  24.250000  ...   \n",
       "1710091        El Paso  2015-06-02  Parts per billion  10.216667  ...   \n",
       "1600358        Phoenix  2015-05-01  Parts per billion  19.208333  ...   \n",
       "...                ...         ...                ...        ...  ...   \n",
       "1614788       Calexico  2015-10-10  Parts per billion  14.913043  ...   \n",
       "1315446        El Paso  2012-10-29  Parts per billion  30.000000  ...   \n",
       "12816      Los Angeles  2000-08-19  Parts per billion  36.652174  ...   \n",
       "457347         Burbank  2005-10-12  Parts per billion  52.695652  ...   \n",
       "857854   Not in a city  2008-06-10  Parts per billion   5.500000  ...   \n",
       "\n",
       "                 SO2 Units  SO2 Mean  SO2 1st Max Value SO2 1st Max Hour  \\\n",
       "362051   Parts per billion  4.916667               11.0                6   \n",
       "9664     Parts per billion  1.000000                8.0               20   \n",
       "997534   Parts per billion  2.325000                3.3               17   \n",
       "1710091  Parts per billion  0.341667                1.1                6   \n",
       "1600358  Parts per billion  1.100000                1.6                2   \n",
       "...                    ...       ...                ...              ...   \n",
       "1614788  Parts per billion  0.504348                1.2               19   \n",
       "1315446  Parts per billion  2.962500               10.1               20   \n",
       "12816    Parts per billion  0.657143                2.0                8   \n",
       "457347   Parts per billion  1.985714                3.3                8   \n",
       "857854   Parts per billion  2.208333               13.0               11   \n",
       "\n",
       "         SO2 AQI           CO Units   CO Mean  CO 1st Max Value  \\\n",
       "362051      16.0  Parts per million  0.895833             2.200   \n",
       "9664        11.0  Parts per million  0.852174             4.900   \n",
       "997534       NaN  Parts per million  0.515385             0.900   \n",
       "1710091      1.0  Parts per million  0.168833             0.492   \n",
       "1600358      NaN  Parts per million  0.550000             0.900   \n",
       "...          ...                ...       ...               ...   \n",
       "1614788      1.0  Parts per million  0.270833             0.600   \n",
       "1315446      NaN  Parts per million  1.113708             4.306   \n",
       "12816        NaN  Parts per million  1.134783             2.300   \n",
       "457347       NaN  Parts per million  1.043478             2.000   \n",
       "857854      19.0  Parts per million  0.425000             0.800   \n",
       "\n",
       "        CO 1st Max Hour  CO AQI  \n",
       "362051                6     NaN  \n",
       "9664                 20     NaN  \n",
       "997534                8    10.0  \n",
       "1710091               6     NaN  \n",
       "1600358               1    10.0  \n",
       "...                 ...     ...  \n",
       "1614788              23     7.0  \n",
       "1315446              20     NaN  \n",
       "12816                 5     NaN  \n",
       "457347                7     NaN  \n",
       "857854                8     NaN  \n",
       "\n",
       "[500 rows x 28 columns]"
      ],
      "text/html": "<div>\n<style scoped>\n    .dataframe tbody tr th:only-of-type {\n        vertical-align: middle;\n    }\n\n    .dataframe tbody tr th {\n        vertical-align: top;\n    }\n\n    .dataframe thead th {\n        text-align: right;\n    }\n</style>\n<table border=\"1\" class=\"dataframe\">\n  <thead>\n    <tr style=\"text-align: right;\">\n      <th></th>\n      <th>State Code</th>\n      <th>County Code</th>\n      <th>Site Num</th>\n      <th>Address</th>\n      <th>State</th>\n      <th>County</th>\n      <th>City</th>\n      <th>Date Local</th>\n      <th>NO2 Units</th>\n      <th>NO2 Mean</th>\n      <th>...</th>\n      <th>SO2 Units</th>\n      <th>SO2 Mean</th>\n      <th>SO2 1st Max Value</th>\n      <th>SO2 1st Max Hour</th>\n      <th>SO2 AQI</th>\n      <th>CO Units</th>\n      <th>CO Mean</th>\n      <th>CO 1st Max Value</th>\n      <th>CO 1st Max Hour</th>\n      <th>CO AQI</th>\n    </tr>\n  </thead>\n  <tbody>\n    <tr>\n      <th>362051</th>\n      <td>4</td>\n      <td>13</td>\n      <td>3002</td>\n      <td>1645 E ROOSEVELT ST-CENTRAL PHOENIX STN</td>\n      <td>Arizona</td>\n      <td>Maricopa</td>\n      <td>Phoenix</td>\n      <td>2004-09-22</td>\n      <td>Parts per billion</td>\n      <td>33.125000</td>\n      <td>...</td>\n      <td>Parts per billion</td>\n      <td>4.916667</td>\n      <td>11.0</td>\n      <td>6</td>\n      <td>16.0</td>\n      <td>Parts per million</td>\n      <td>0.895833</td>\n      <td>2.200</td>\n      <td>6</td>\n      <td>NaN</td>\n    </tr>\n    <tr>\n      <th>9664</th>\n      <td>6</td>\n      <td>25</td>\n      <td>5</td>\n      <td>1029 ETHEL ST, CALEXICO HIGH SCHOOL</td>\n      <td>California</td>\n      <td>Imperial</td>\n      <td>Calexico</td>\n      <td>2000-04-01</td>\n      <td>Parts per billion</td>\n      <td>20.521739</td>\n      <td>...</td>\n      <td>Parts per billion</td>\n      <td>1.000000</td>\n      <td>8.0</td>\n      <td>20</td>\n      <td>11.0</td>\n      <td>Parts per million</td>\n      <td>0.852174</td>\n      <td>4.900</td>\n      <td>20</td>\n      <td>NaN</td>\n    </tr>\n    <tr>\n      <th>997534</th>\n      <td>6</td>\n      <td>65</td>\n      <td>8001</td>\n      <td>5888 MISSION BLVD., RUBIDOUX</td>\n      <td>California</td>\n      <td>Riverside</td>\n      <td>Rubidoux</td>\n      <td>2010-03-18</td>\n      <td>Parts per billion</td>\n      <td>24.250000</td>\n      <td>...</td>\n      <td>Parts per billion</td>\n      <td>2.325000</td>\n      <td>3.3</td>\n      <td>17</td>\n      <td>NaN</td>\n      <td>Parts per million</td>\n      <td>0.515385</td>\n      <td>0.900</td>\n      <td>8</td>\n      <td>10.0</td>\n    </tr>\n    <tr>\n      <th>1710091</th>\n      <td>48</td>\n      <td>141</td>\n      <td>44</td>\n      <td>800 S San Marcial Street</td>\n      <td>Texas</td>\n      <td>El Paso</td>\n      <td>El Paso</td>\n      <td>2015-06-02</td>\n      <td>Parts per billion</td>\n      <td>10.216667</td>\n      <td>...</td>\n      <td>Parts per billion</td>\n      <td>0.341667</td>\n      <td>1.1</td>\n      <td>6</td>\n      <td>1.0</td>\n      <td>Parts per million</td>\n      <td>0.168833</td>\n      <td>0.492</td>\n      <td>6</td>\n      <td>NaN</td>\n    </tr>\n    <tr>\n      <th>1600358</th>\n      <td>4</td>\n      <td>13</td>\n      <td>9997</td>\n      <td>4530 N 17TH AVENUE</td>\n      <td>Arizona</td>\n      <td>Maricopa</td>\n      <td>Phoenix</td>\n      <td>2015-05-01</td>\n      <td>Parts per billion</td>\n      <td>19.208333</td>\n      <td>...</td>\n      <td>Parts per billion</td>\n      <td>1.100000</td>\n      <td>1.6</td>\n      <td>2</td>\n      <td>NaN</td>\n      <td>Parts per million</td>\n      <td>0.550000</td>\n      <td>0.900</td>\n      <td>1</td>\n      <td>10.0</td>\n    </tr>\n    <tr>\n      <th>...</th>\n      <td>...</td>\n      <td>...</td>\n      <td>...</td>\n      <td>...</td>\n      <td>...</td>\n      <td>...</td>\n      <td>...</td>\n      <td>...</td>\n      <td>...</td>\n      <td>...</td>\n      <td>...</td>\n      <td>...</td>\n      <td>...</td>\n      <td>...</td>\n      <td>...</td>\n      <td>...</td>\n      <td>...</td>\n      <td>...</td>\n      <td>...</td>\n      <td>...</td>\n      <td>...</td>\n    </tr>\n    <tr>\n      <th>1614788</th>\n      <td>6</td>\n      <td>25</td>\n      <td>5</td>\n      <td>1029 ETHEL ST, CALEXICO HIGH SCHOOL</td>\n      <td>California</td>\n      <td>Imperial</td>\n      <td>Calexico</td>\n      <td>2015-10-10</td>\n      <td>Parts per billion</td>\n      <td>14.913043</td>\n      <td>...</td>\n      <td>Parts per billion</td>\n      <td>0.504348</td>\n      <td>1.2</td>\n      <td>19</td>\n      <td>1.0</td>\n      <td>Parts per million</td>\n      <td>0.270833</td>\n      <td>0.600</td>\n      <td>23</td>\n      <td>7.0</td>\n    </tr>\n    <tr>\n      <th>1315446</th>\n      <td>48</td>\n      <td>141</td>\n      <td>44</td>\n      <td>800 S San Marcial Street</td>\n      <td>Texas</td>\n      <td>El Paso</td>\n      <td>El Paso</td>\n      <td>2012-10-29</td>\n      <td>Parts per billion</td>\n      <td>30.000000</td>\n      <td>...</td>\n      <td>Parts per billion</td>\n      <td>2.962500</td>\n      <td>10.1</td>\n      <td>20</td>\n      <td>NaN</td>\n      <td>Parts per million</td>\n      <td>1.113708</td>\n      <td>4.306</td>\n      <td>20</td>\n      <td>NaN</td>\n    </tr>\n    <tr>\n      <th>12816</th>\n      <td>6</td>\n      <td>37</td>\n      <td>1103</td>\n      <td>1630 N MAIN ST, LOS ANGELES</td>\n      <td>California</td>\n      <td>Los Angeles</td>\n      <td>Los Angeles</td>\n      <td>2000-08-19</td>\n      <td>Parts per billion</td>\n      <td>36.652174</td>\n      <td>...</td>\n      <td>Parts per billion</td>\n      <td>0.657143</td>\n      <td>2.0</td>\n      <td>8</td>\n      <td>NaN</td>\n      <td>Parts per million</td>\n      <td>1.134783</td>\n      <td>2.300</td>\n      <td>5</td>\n      <td>NaN</td>\n    </tr>\n    <tr>\n      <th>457347</th>\n      <td>6</td>\n      <td>37</td>\n      <td>1002</td>\n      <td>228 W. PALM AVE., BURBANK</td>\n      <td>California</td>\n      <td>Los Angeles</td>\n      <td>Burbank</td>\n      <td>2005-10-12</td>\n      <td>Parts per billion</td>\n      <td>52.695652</td>\n      <td>...</td>\n      <td>Parts per billion</td>\n      <td>1.985714</td>\n      <td>3.3</td>\n      <td>8</td>\n      <td>NaN</td>\n      <td>Parts per million</td>\n      <td>1.043478</td>\n      <td>2.000</td>\n      <td>7</td>\n      <td>NaN</td>\n    </tr>\n    <tr>\n      <th>857854</th>\n      <td>51</td>\n      <td>59</td>\n      <td>5</td>\n      <td>CUB RUN LEE RD CHANT.(CUBRUN TREAT PLANT</td>\n      <td>Virginia</td>\n      <td>Fairfax</td>\n      <td>Not in a city</td>\n      <td>2008-06-10</td>\n      <td>Parts per billion</td>\n      <td>5.500000</td>\n      <td>...</td>\n      <td>Parts per billion</td>\n      <td>2.208333</td>\n      <td>13.0</td>\n      <td>11</td>\n      <td>19.0</td>\n      <td>Parts per million</td>\n      <td>0.425000</td>\n      <td>0.800</td>\n      <td>8</td>\n      <td>NaN</td>\n    </tr>\n  </tbody>\n</table>\n<p>500 rows × 28 columns</p>\n</div>"
     },
     "metadata": {},
     "execution_count": 16
    }
   ],
   "source": [
    "# Sample 250 datapoints with a seed of 43\n",
    "sample = df.sample(n=500, random_state=43)\n",
    "sample.to_csv('../sampleData.csv', index=False)  \n",
    "sample"
   ]
  },
  {
   "cell_type": "code",
   "execution_count": null,
   "metadata": {},
   "outputs": [],
   "source": []
  }
 ]
}